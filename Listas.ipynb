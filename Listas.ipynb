{
  "nbformat": 4,
  "nbformat_minor": 0,
  "metadata": {
    "colab": {
      "name": "Listas.ipynb",
      "provenance": [],
      "collapsed_sections": [],
      "toc_visible": true,
      "authorship_tag": "ABX9TyNgg+jT4QM8VDVKq4Low5zI",
      "include_colab_link": true
    },
    "kernelspec": {
      "name": "python3",
      "display_name": "Python 3"
    },
    "language_info": {
      "name": "python"
    }
  },
  "cells": [
    {
      "cell_type": "markdown",
      "metadata": {
        "id": "view-in-github",
        "colab_type": "text"
      },
      "source": [
        "<a href=\"https://colab.research.google.com/github/ayvelasquezma/python/blob/main/Listas.ipynb\" target=\"_parent\"><img src=\"https://colab.research.google.com/assets/colab-badge.svg\" alt=\"Open In Colab\"/></a>"
      ]
    },
    {
      "cell_type": "markdown",
      "metadata": {
        "id": "0HPhXcmYQ9sb"
      },
      "source": [
        "\n",
        "# LISTAS\n",
        "\n",
        "Las listas son una estructura que puede almacenar objetos de distintos tipos. Este almacenamiento se hace en un espacio de memoria y cada objeto se guarda al lado del otro. También podemos es posible que una lista almacene otra lista, conocido como matrices.\n",
        "\n",
        "## [Creación](#scrollTo=hLX845yk7g1Y)\n",
        "\n",
        "## Acceso \n",
        "\n",
        "## Sublista\n",
        "\n",
        "## Duplicar\n",
        "\n",
        "## Funciones propias de las listas\n",
        "\n"
      ]
    },
    {
      "cell_type": "markdown",
      "metadata": {
        "id": "hLX845yk7g1Y"
      },
      "source": [
        "## Creación\n",
        "\n",
        "Su definición es sencilla `mi_variable=[int,string,float,...]` estas listas son dinámicas, es posible agregar, actualizar y eliminar sus elementos. "
      ]
    },
    {
      "cell_type": "code",
      "metadata": {
        "colab": {
          "base_uri": "https://localhost:8080/"
        },
        "id": "opNX4rcJQ8Cq",
        "outputId": "e70f5840-0b7c-4fe7-8228-bba15d28e773"
      },
      "source": [
        "mi_lista=[1,\"hola\",5.5, True]\n",
        "print(type(mi_lista))"
      ],
      "execution_count": null,
      "outputs": [
        {
          "output_type": "stream",
          "text": [
            "<class 'list'>\n"
          ],
          "name": "stdout"
        }
      ]
    },
    {
      "cell_type": "markdown",
      "metadata": {
        "id": "n-Kozrqy7cs-"
      },
      "source": [
        "## Acceso \n",
        "\n",
        "Para acceder a un elemento usamos los paréntesis cuadrados `mi_lista[i]` con esto accederemos a la posición `i` de nuestra lista. Note que el `i` tiene que ser menor a el tamaño de la lista. La primera posición en las listas es la posición `0`. De esta manera se puede actualizar una lista."
      ]
    },
    {
      "cell_type": "code",
      "metadata": {
        "colab": {
          "base_uri": "https://localhost:8080/"
        },
        "id": "2bOqB2EUbFIw",
        "outputId": "852ff7ef-994e-4216-efdf-c3b8ca86a391"
      },
      "source": [
        "mi_lista=[1,\"hola\",5.5, True,\"lista\"]\n",
        "print(\"El largo de la lista es \"+str(len(mi_lista)))\n",
        "print(mi_lista[2])\n",
        "print(mi_lista[1])\n",
        "print(mi_lista[0])"
      ],
      "execution_count": null,
      "outputs": [
        {
          "output_type": "stream",
          "text": [
            "El largo de la lista es 5\n",
            "5.5\n",
            "hola\n",
            "1\n"
          ],
          "name": "stdout"
        }
      ]
    },
    {
      "cell_type": "markdown",
      "metadata": {
        "id": "_wJYRhFr7Yb-"
      },
      "source": [
        "## Sublista\n",
        "\n",
        "Es posible hacer un recorte de estas listas para generar una sublista de elementos, esto se hace usando `sublista=lista[1:5]` de esta manera tendremos los elementos `1,2,3,4` note que el 5 no se toma ya que el límite derecho es exclusivo y el límite izquierdo inclusivo. \n",
        "* Si omitimos el límite izquierdo `[:3]` se asume que se quiere desde el primer elemento, por ende tendremos `0,1,2`, **el límite derecho es exclusivo, no se toma**\n",
        "* Si omitimos el límite derecho `[1:]` se asume que se quiere hasta el último elemento, por ende tendremos `1,2,3,4` en una lista de 5 elementos, **el primer elemento está en la posición 0**"
      ]
    },
    {
      "cell_type": "code",
      "metadata": {
        "colab": {
          "base_uri": "https://localhost:8080/"
        },
        "id": "4EaiVHpSbws4",
        "outputId": "12974ac1-4d19-4beb-851d-fdb26a74c03c"
      },
      "source": [
        "mi_lista=[1,\"hola\",5.5, True,\"lista\"]\n",
        "mi_sublista=mi_lista[1:3]\n",
        "mi_sublista2=mi_lista[:3]\n",
        "mi_sublista3=mi_lista[2:]\n",
        "print(mi_sublista)\n",
        "print(mi_sublista2)\n",
        "print(mi_sublista3)"
      ],
      "execution_count": null,
      "outputs": [
        {
          "output_type": "stream",
          "text": [
            "['hola', 5.5]\n",
            "[1, 'hola', 5.5]\n",
            "[5.5, True, 'lista']\n"
          ],
          "name": "stdout"
        }
      ]
    },
    {
      "cell_type": "markdown",
      "metadata": {
        "id": "I4QXIvGZ7QIi"
      },
      "source": [
        "## Duplicar\n",
        "\n",
        "Para duplicar una lista es incorrecto usar `=` ya que la lista se puede pensar como una referencia a una posición de memoria al usar `copia=lista` no copiamos el elemento sino copiamos la referencia. La manera correcta de copiar una lista es `copia=lista[:]` al no usar ni límite izquierdo, ni derecho se asume que son todos los elementos."
      ]
    },
    {
      "cell_type": "code",
      "metadata": {
        "colab": {
          "base_uri": "https://localhost:8080/"
        },
        "id": "hDvpn7AiiIq5",
        "outputId": "6ae59df5-6f34-48bd-cbc6-bfb0772e309d"
      },
      "source": [
        "mi_lista=[1,\"hola\",5.5, True,\"lista\",4,10,7]\n",
        "copia_mal=mi_lista\n",
        "#ya que hacemos referencia al mismo espacio de memoria cambiar un elemento se\n",
        "#ve reflejado en en copia_mal y mi_lista\n",
        "mi_lista[0]=7\n",
        "print(mi_lista[0])\n",
        "print(copia_mal[0])\n",
        "print(\"-------------------------------\")\n",
        "#Correctamente copiando los valores de mi_lista, al actualizar mi_lista vemos\n",
        "#que la copia no se altera\n",
        "copia=mi_lista[:]\n",
        "mi_lista[0]=30\n",
        "print(mi_lista[0])\n",
        "print(copia[0])"
      ],
      "execution_count": null,
      "outputs": [
        {
          "output_type": "stream",
          "text": [
            "7\n",
            "7\n",
            "-------------------------------\n",
            "30\n",
            "7\n"
          ],
          "name": "stdout"
        }
      ]
    },
    {
      "cell_type": "markdown",
      "metadata": {
        "id": "mr8smFS35-5f"
      },
      "source": [
        "## Funciones propias de las listas\n",
        "\n",
        "Las listas tienen funciones propias diseñadas para su manejo, daremos un pequeño recuento de algunas:\n",
        "* La función `.remove(valor)` eliminará la primera aparición del valor en la lista.\n",
        "* La función `.pop()` eliminará la última posición de la lista.\n",
        "* La función `del lista[i]` eliminará la posición `i` de la lista.\n",
        "* La función `.append(valor)` agrega a la última posición de la lista `valor`.\n",
        "* La función `.insert(i,valor)` agrega a la posición `i` de la lista el `valor`.\n",
        "\n",
        "Siempre puede buscar documentación que le servirá de apoyo para saber si existe una función que necesita, las funciones son muchas por cada tipo de dato.\n",
        "\n",
        "1.   List item\n",
        "2.   List item\n",
        "\n"
      ]
    },
    {
      "cell_type": "code",
      "metadata": {
        "colab": {
          "base_uri": "https://localhost:8080/"
        },
        "id": "P41whCR3uKyg",
        "outputId": "4af96180-bfb3-434b-a17c-403f8dbb6cd0"
      },
      "source": [
        "mi_lista=[1,\"hola\",5.5, True,\"lista\",4,10,7]\n",
        "mi_lista.pop()\n",
        "print(mi_lista)\n",
        "mi_lista.remove(\"hola\")\n",
        "print(mi_lista)\n",
        "del mi_lista[0]\n",
        "print(mi_lista)\n",
        "mi_lista.append(\"agregar\")\n",
        "print(mi_lista)\n",
        "mi_lista.insert(1,\"agregar en 1\")\n",
        "print(mi_lista)"
      ],
      "execution_count": null,
      "outputs": [
        {
          "output_type": "stream",
          "text": [
            "[1, 'hola', 5.5, True, 'lista', 4, 10]\n",
            "[1, 5.5, True, 'lista', 4, 10]\n",
            "[5.5, True, 'lista', 4, 10]\n",
            "[5.5, True, 'lista', 4, 10, 'agregar']\n",
            "[5.5, 'agregar en 1', True, 'lista', 4, 10, 'agregar']\n"
          ],
          "name": "stdout"
        }
      ]
    }
  ]
}